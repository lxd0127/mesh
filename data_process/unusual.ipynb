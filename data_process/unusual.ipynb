{
 "cells": [
  {
   "cell_type": "markdown",
   "id": "986703db-9451-4d71-ab9a-177813ea36af",
   "metadata": {},
   "source": [
    "## 提取异常文件"
   ]
  },
  {
   "cell_type": "code",
   "execution_count": null,
   "id": "019b542d-10b0-406b-a1e1-01d10128d7f8",
   "metadata": {},
   "outputs": [],
   "source": [
    "import os\n",
    "import shutil\n",
    "\n",
    "def copy_specific_files(source_folder, target_folder, file_names):\n",
    "    \"\"\"\n",
    "    将指定文件名的文件从源文件夹复制到目标文件夹\n",
    "    :param source_folder: 源文件夹路径\n",
    "    :param target_folder: 目标文件夹路径\n",
    "    :param file_names: 要复制的文件名列表\n",
    "    \"\"\"\n",
    "    if not os.path.exists(target_folder):\n",
    "        os.makedirs(target_folder)\n",
    "\n",
    "    for file_name in file_names:\n",
    "        source_file_path = os.path.join(source_folder, file_name)\n",
    "        target_file_path = os.path.join(target_folder, file_name)\n",
    "\n",
    "        if os.path.isfile(source_file_path):\n",
    "            try:\n",
    "                shutil.copy2(source_file_path, target_file_path)\n",
    "                print(f\"成功复制 {file_name} 到 {target_folder}\")\n",
    "            except Exception as e:\n",
    "                print(f\"复制 {file_name} 时出错: {e}\")\n",
    "        else:\n",
    "            print(f\"源文件 {source_file_path} 不存在。\")\n",
    "\n",
    "# 示例用法\n",
    "source_folder = \"\"\n",
    "target_folder = \"\"\n",
    "file_names = [\".obj\"]\n",
    "\n",
    "copy_specific_files(source_folder, target_folder, file_names)"
   ]
  }
 ],
 "metadata": {
  "kernelspec": {
   "display_name": "Python 3 (ipykernel)",
   "language": "python",
   "name": "python3"
  },
  "language_info": {
   "codemirror_mode": {
    "name": "ipython",
    "version": 3
   },
   "file_extension": ".py",
   "mimetype": "text/x-python",
   "name": "python",
   "nbconvert_exporter": "python",
   "pygments_lexer": "ipython3",
   "version": "3.11.8"
  }
 },
 "nbformat": 4,
 "nbformat_minor": 5
}
