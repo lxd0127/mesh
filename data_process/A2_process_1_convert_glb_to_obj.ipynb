{
 "cells": [
  {
   "cell_type": "markdown",
   "id": "5jOwSD6fvT-g",
   "metadata": {
    "id": "5jOwSD6fvT-g"
   },
   "source": [
    "## 以下为数据集构建"
   ]
  },
  {
   "cell_type": "markdown",
   "id": "YrXGKYD2zlDz",
   "metadata": {
    "id": "YrXGKYD2zlDz"
   },
   "source": [
    "创建json文件"
   ]
  },
  {
   "cell_type": "markdown",
   "id": "f8AfdD9WzpLu",
   "metadata": {
    "id": "f8AfdD9WzpLu"
   },
   "source": [
    "转换成obj格式，old是原始的glb转成的obj，new是提取了行的obj"
   ]
  },
  {
   "cell_type": "code",
   "execution_count": null,
   "id": "8e93d900-5d9f-4c2f-a7ae-25a512fed5cd",
   "metadata": {
    "scrolled": true,
    "tags": []
   },
   "outputs": [],
   "source": [
    "!pip install trimesh"
   ]
  },
  {
   "cell_type": "code",
   "execution_count": null,
   "id": "s_vv7WPAsH2G",
   "metadata": {
    "colab": {
     "base_uri": "https://localhost:8080/"
    },
    "id": "s_vv7WPAsH2G",
    "outputId": "2e90a083-a879-4ac3-c861-775205c2aea4",
    "scrolled": true,
    "tags": []
   },
   "outputs": [],
   "source": [
    "import os\n",
    "import trimesh\n",
    "\n",
    "# 此函数用于将 glb 文件转换为 obj 文件\n",
    "def convert_glb_to_obj(glb_folder, obj_folder, max_count=None):\n",
    "    if not os.path.exists(obj_folder):\n",
    "        os.makedirs(obj_folder)\n",
    "        print(f\"创建文件夹: {obj_folder}\")\n",
    "\n",
    "    success_count = 1\n",
    "    skip_count = 1\n",
    "\n",
    "    for root, dirs, files in os.walk(glb_folder):\n",
    "        for file in files:\n",
    "            if file.endswith('.glb'):\n",
    "                if max_count is not None and (success_count+skip_count) > max_count:\n",
    "                    break\n",
    "                glb_file_path = os.path.join(root, file)\n",
    "                obj_file_name = os.path.splitext(file)[0] + '.obj'\n",
    "                obj_file_path = os.path.join(obj_folder, obj_file_name)\n",
    "\n",
    "                if os.path.exists(obj_file_path):\n",
    "                    print(f\"{obj_file_path} 已存在，跳过转换。[{skip_count}]\")\n",
    "                    skip_count += 1\n",
    "                    continue\n",
    "\n",
    "                print(f\"正在将 {glb_file_path} 转换为 {obj_file_path}...\")\n",
    "                try:\n",
    "                    mesh = trimesh.load(glb_file_path)\n",
    "                    mesh.export(obj_file_path, file_type='obj')\n",
    "                    print(f\"[{success_count}] 成功将 {glb_file_path} 转换为 {obj_file_path}\")\n",
    "                    success_count += 1\n",
    "                except Exception as e:\n",
    "                    print(f\"将 {glb_file_path} 转换为 {obj_file_path} 时出错: {e}\")\n",
    "                    continue\n",
    "        if max_count is not None and (success_count+skip_count) > max_count:\n",
    "            break\n",
    "\n",
    "# 此函数用于处理 obj 文件，可选择去掉 vt 行及 f 行中对应的部分\n",
    "def process_obj_files(obj_folder, processed_obj_folder, max_count=None, remove_vt=False):\n",
    "    if not os.path.exists(processed_obj_folder):\n",
    "        os.makedirs(processed_obj_folder)\n",
    "        print(f\"创建文件夹: {processed_obj_folder}\")\n",
    "\n",
    "    success_count = 1\n",
    "    skip_count = 1\n",
    "\n",
    "    for root, dirs, files in os.walk(obj_folder):\n",
    "        for file in files:\n",
    "            if file.endswith('.obj'):\n",
    "                if max_count is not None and (success_count+skip_count) > max_count:\n",
    "                    break\n",
    "                obj_file_path = os.path.join(root, file)\n",
    "                processed_obj_file_path = os.path.join(processed_obj_folder, file)\n",
    "\n",
    "                if os.path.exists(processed_obj_file_path):\n",
    "                    # print(f\"{processed_obj_file_path} 已存在，跳过处理。[{skip_count}]\")\n",
    "                    skip_count += 1\n",
    "                    continue\n",
    "\n",
    "                print(f\"正在处理 {obj_file_path}...\")\n",
    "                try:\n",
    "                    with open(obj_file_path, 'r') as f_in:\n",
    "                        lines = f_in.readlines()\n",
    "\n",
    "                    v_lines = []\n",
    "                    vt_lines = []\n",
    "                    f_lines = []\n",
    "\n",
    "                    for line in lines:\n",
    "                        if line.startswith('v '):\n",
    "                            v_lines.append(line)\n",
    "                        elif line.startswith('vt '):\n",
    "                            vt_lines.append(line)\n",
    "                        elif line.startswith('f '):\n",
    "                            f_lines.append(line)\n",
    "\n",
    "                    if remove_vt:\n",
    "                        new_f_lines = []\n",
    "                        for f_line in f_lines:\n",
    "                            parts = f_line.strip().split()[1:]\n",
    "                            new_parts = []\n",
    "                            for part in parts:\n",
    "                                sub_parts = part.split('/')\n",
    "                                # 去掉 vt 部分\n",
    "                                new_part = f\"{sub_parts[0]}\" if len(sub_parts) > 0 else part\n",
    "                                new_parts.append(new_part)\n",
    "                            new_f_line = f\"f {' '.join(new_parts)}\\n\"\n",
    "                            new_f_lines.append(new_f_line)\n",
    "                        f_lines = new_f_lines\n",
    "                        vt_lines = []\n",
    "\n",
    "                    filtered_lines = v_lines + vt_lines + f_lines\n",
    "\n",
    "                    # 以写入模式打开处理后的文件并将过滤后的行写入\n",
    "                    with open(processed_obj_file_path, 'w') as f_out:\n",
    "                        f_out.writelines(filtered_lines)\n",
    "                    print(f\"[{success_count}] 成功处理 {obj_file_path} 并保存到 {processed_obj_file_path}\")\n",
    "                    success_count += 1\n",
    "                except Exception as e:\n",
    "                    print(f\"处理 {obj_file_path} 时出错: {e}\")\n",
    "        if max_count is not None and (success_count+skip_count) > max_count:\n",
    "            break\n",
    "\n",
    "# 此函数用于统计指定文件夹中的文件数量\n",
    "def count_files_in_folder(folder):\n",
    "    file_count = 0\n",
    "    for _, _, files in os.walk(folder):\n",
    "        file_count += len(files)\n",
    "    return file_count\n",
    "\n",
    "if __name__ == \"__main__\":\n",
    "    glb_folder = \"\"\n",
    "    obj_folder = \"\"\n",
    "    processed_obj_folder = \"\"\n",
    "\n",
    "    max_count = 60000  # 可以根据需要修改此值，如果为 None 则处理所有文件\n",
    "    # 是否去掉 vt 行\n",
    "    remove_vt = True  # 可以根据需要修改为 False\n",
    "\n",
    "    print(\"开始将 glb 文件转换为 obj 文件...\")\n",
    "    convert_glb_to_obj(glb_folder, obj_folder, max_count+1)\n",
    "    print(\"glb 到 obj 转换完成。\")\n",
    "\n",
    "    print(\"开始处理 obj 文件...\")\n",
    "    process_obj_files(obj_folder, processed_obj_folder, max_count+1, remove_vt)\n",
    "    print(\"obj 文件处理完成。\")\n",
    "\n",
    "    file_count = count_files_in_folder(processed_obj_folder)\n",
    "    print(f\"{processed_obj_folder} 中的文件数量为 {file_count}\")"
   ]
  }
 ],
 "metadata": {
  "colab": {
   "provenance": []
  },
  "kernelspec": {
   "display_name": "Python 3 (ipykernel)",
   "language": "python",
   "name": "python3"
  },
  "language_info": {
   "codemirror_mode": {
    "name": "ipython",
    "version": 3
   },
   "file_extension": ".py",
   "mimetype": "text/x-python",
   "name": "python",
   "nbconvert_exporter": "python",
   "pygments_lexer": "ipython3",
   "version": "3.11.8"
  }
 },
 "nbformat": 4,
 "nbformat_minor": 5
}
