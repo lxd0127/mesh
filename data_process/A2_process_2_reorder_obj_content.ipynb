{
 "cells": [
  {
   "cell_type": "markdown",
   "id": "a32a94f7-bf47-4374-8b6a-0875d16cb7d6",
   "metadata": {},
   "source": [
    "对new文件夹里面的obj格式文件的内容进行修改输出到new1，使得先是v的行，再是vt的行，最后是f的行"
   ]
  },
  {
   "cell_type": "code",
   "execution_count": null,
   "id": "6dc04bef-8c8b-4d84-b9c8-bc252db13ea1",
   "metadata": {
    "scrolled": true
   },
   "outputs": [],
   "source": [
    "import os\n",
    "\n",
    "\n",
    "def reorder_obj_content(input_folder, output_folder, max_count=None):\n",
    "    if not os.path.exists(output_folder):\n",
    "        os.makedirs(output_folder)\n",
    "\n",
    "    processed_count = 1\n",
    "\n",
    "    for root, dirs, files in os.walk(input_folder):\n",
    "        for file in files:\n",
    "            if file.endswith('.obj'):\n",
    "                if max_count is not None and processed_count > max_count:\n",
    "                    break\n",
    "\n",
    "                input_file_path = os.path.join(root, file)\n",
    "                output_file_path = os.path.join(output_folder, file)\n",
    "\n",
    "                if os.path.exists(output_file_path):\n",
    "                    # print(f\"文件 {output_file_path} 已存在，跳过处理。\")\n",
    "                    continue\n",
    "\n",
    "                with open(input_file_path, 'r') as f:\n",
    "                    lines = f.readlines()\n",
    "\n",
    "                # 分别存储以 v、vt、f 开头的行\n",
    "                v_lines = []\n",
    "                vt_lines = []\n",
    "                f_lines = []\n",
    "\n",
    "                for line in lines:\n",
    "                    if line.startswith('v '):\n",
    "                        v_lines.append(line)\n",
    "                    elif line.startswith('vt '):\n",
    "                        vt_lines.append(line)\n",
    "                    elif line.startswith('f '):\n",
    "                        f_lines.append(line)\n",
    "\n",
    "                new_lines = v_lines + vt_lines + f_lines\n",
    "\n",
    "                with open(output_file_path, 'w') as f:\n",
    "                    f.writelines(new_lines)\n",
    "\n",
    "                # print(f\"[{processed_count}] 已处理文件: {input_file_path}，保存到: {output_file_path}\")\n",
    "                processed_count += 1\n",
    "\n",
    "        if max_count is not None and processed_count > max_count:\n",
    "            break\n",
    "\n",
    "input_folder = ''\n",
    "output_folder = ''\n",
    "\n",
    "max_count = None  \n",
    "\n",
    "print(\"开始处理\")\n",
    "reorder_obj_content(input_folder, output_folder, max_count)\n",
    "print(\"处理完成\")"
   ]
  }
 ],
 "metadata": {
  "kernelspec": {
   "display_name": "Python 3 (ipykernel)",
   "language": "python",
   "name": "python3"
  },
  "language_info": {
   "codemirror_mode": {
    "name": "ipython",
    "version": 3
   },
   "file_extension": ".py",
   "mimetype": "text/x-python",
   "name": "python",
   "nbconvert_exporter": "python",
   "pygments_lexer": "ipython3",
   "version": "3.11.8"
  }
 },
 "nbformat": 4,
 "nbformat_minor": 5
}
