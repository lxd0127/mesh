{
 "cells": [
  {
   "cell_type": "markdown",
   "id": "c00dbd5c-b394-4da4-90a4-db49107f36cd",
   "metadata": {},
   "source": [
    "## 查看XXX的文件总数量"
   ]
  },
  {
   "cell_type": "code",
   "execution_count": null,
   "id": "24a7e9c1-4440-4ce0-8d63-38c6d2b88435",
   "metadata": {},
   "outputs": [],
   "source": [
    "import os\n",
    "\n",
    "def count_files_by_type(folder_path, file_extension):\n",
    "    file_count = 0\n",
    "    for file in os.listdir(folder_path):\n",
    "        if os.path.isfile(os.path.join(folder_path, file)) and file.endswith(file_extension):\n",
    "            file_count += 1\n",
    "    return file_count\n",
    "\n",
    "folder_path = '' \n",
    "file_extension = '' \n",
    "\n",
    "count = count_files_by_type(folder_path, file_extension)\n",
    "\n",
    "print(f\"在文件夹 {folder_path} 中，扩展名为 {file_extension} 的文件数量为: {count}\")"
   ]
  },
  {
   "cell_type": "markdown",
   "id": "437abc2b-2335-481c-8e82-0b634a6d2f54",
   "metadata": {},
   "source": [
    "#### 查看xxx文件夹内的checkpoint隐藏文件"
   ]
  },
  {
   "cell_type": "code",
   "execution_count": null,
   "id": "4082e498-2b8c-46e1-9f81-13947adec0f4",
   "metadata": {},
   "outputs": [],
   "source": [
    "import os\n",
    "\n",
    "found_files_old = []\n",
    "\n",
    "def find_files(folder_path, specific_part, file_type):\n",
    "    \"\"\"\n",
    "    查找指定文件夹中含有特定部分文件名且指定了文件类型的文件，\n",
    "    并将这些文件的路径存储到全局列表 found_files 中\n",
    "\n",
    "    :param folder_path: 指定的文件夹路径\n",
    "    :param specific_part: 文件名中需要包含的特定部分\n",
    "    :param file_type: 指定的文件类型，例如 '.txt'\n",
    "    \"\"\"\n",
    "    global found_files\n",
    "    for root, dirs, files in os.walk(folder_path):\n",
    "        for file in files:\n",
    "            if specific_part in file and file.endswith(file_type):\n",
    "                file_path = os.path.join(root, file)\n",
    "                found_files_old.append(file_path)\n",
    "\n",
    "folder_path = '' \n",
    "specific_part = ''  \n",
    "file_type = ''  \n",
    "\n",
    "find_files(folder_path, specific_part, file_type)\n",
    "\n",
    "print(\"找到的文件路径列表：\")\n",
    "for path in found_files_old:\n",
    "    print(path)"
   ]
  },
  {
   "cell_type": "code",
   "execution_count": null,
   "id": "ea846758-e2be-43e4-838b-a7f970fca723",
   "metadata": {},
   "outputs": [],
   "source": [
    "found_files_old"
   ]
  },
  {
   "cell_type": "markdown",
   "id": "a81b28bb-0a82-4f92-b8af-781ca61c8001",
   "metadata": {},
   "source": [
    "#### 删除XXX文件夹内的checkpoint隐藏文件"
   ]
  },
  {
   "cell_type": "code",
   "execution_count": 8,
   "id": "83dcb9cc-284f-406d-ae45-ea998b1d30ba",
   "metadata": {},
   "outputs": [],
   "source": [
    "import os\n",
    "\n",
    "def delete_files(file_list):\n",
    "    \"\"\"\n",
    "    删除指定列表中的文件\n",
    "\n",
    "    :param file_list: 包含要删除文件路径的列表\n",
    "    \"\"\"\n",
    "    for file_path in file_list:\n",
    "        try:\n",
    "            if os.path.exists(file_path):\n",
    "                os.remove(file_path)\n",
    "                print(f\"成功删除文件: {file_path}\")\n",
    "            else:\n",
    "                print(f\"文件 {file_path} 不存在，跳过删除操作。\")\n",
    "        except Exception as e:\n",
    "            print(f\"删除文件 {file_path} 时出错: {e}\")\n",
    "\n",
    "delete_files(found_files_old)"
   ]
  },
  {
   "cell_type": "markdown",
   "id": "abfd1412-e195-4cf2-947e-a0a2b363bf4c",
   "metadata": {},
   "source": [
    "## 查看json文件中的数据条数"
   ]
  },
  {
   "cell_type": "code",
   "execution_count": null,
   "id": "c9686684-2a55-489a-8202-72720965a1da",
   "metadata": {},
   "outputs": [],
   "source": [
    "import json\n",
    "\n",
    "def count_json_data(file_path):\n",
    "    try:\n",
    "        with open(file_path, 'r', encoding='utf-8') as file:\n",
    "            data = json.load(file)\n",
    "\n",
    "            if isinstance(data, list):\n",
    "                return len(data)\n",
    "            elif isinstance(data, dict):\n",
    "                return len(data)\n",
    "            else:\n",
    "                print(\"JSON文件内容既不是列表也不是字典，无法统计数量。\")\n",
    "                return 0\n",
    "    except FileNotFoundError:\n",
    "        print(f\"文件 {file_path} 未找到。\")\n",
    "        return 0\n",
    "    except json.JSONDecodeError:\n",
    "        print(f\"无法解析 {file_path} 为有效的JSON数据。\")\n",
    "        return 0\n",
    "\n",
    "file_path = ''\n",
    "data_count = count_json_data(file_path)\n",
    "print(f\"JSON文件中的数据数量为: {data_count}\")"
   ]
  },
  {
   "cell_type": "markdown",
   "id": "57f0d0f7-f052-4314-b1d9-3bc048ae7225",
   "metadata": {},
   "source": [
    "## 统计v与f"
   ]
  },
  {
   "cell_type": "code",
   "execution_count": null,
   "id": "caca5459-33d7-4beb-8070-08f5c0944c52",
   "metadata": {},
   "outputs": [],
   "source": [
    "def count_vertices_and_faces(file_path):\n",
    "    vertex_count = 0\n",
    "    face_count = 0\n",
    "    try:\n",
    "        with open(file_path, 'r') as file:\n",
    "            for line in file:\n",
    "                line = line.strip()\n",
    "                if line.startswith('v '):\n",
    "                    vertex_count += 1\n",
    "                elif line.startswith('f '):\n",
    "                    face_count += 1\n",
    "\n",
    "        print(f\"点坐标 v 的数量: {vertex_count}\")\n",
    "        print(f\"面定义 f 的数量: {face_count}\")\n",
    "    except FileNotFoundError:\n",
    "        print(f\"错误: 文件 {file_path} 未找到。\")\n",
    "    except Exception as e:\n",
    "        print(f\"发生未知错误: {e}\")\n",
    "\n",
    "\n",
    "if __name__ == \"__main__\":\n",
    "    file_path = ''\n",
    "    count_vertices_and_faces(file_path)\n",
    "    "
   ]
  }
 ],
 "metadata": {
  "kernelspec": {
   "display_name": "Python 3 (ipykernel)",
   "language": "python",
   "name": "python3"
  },
  "language_info": {
   "codemirror_mode": {
    "name": "ipython",
    "version": 3
   },
   "file_extension": ".py",
   "mimetype": "text/x-python",
   "name": "python",
   "nbconvert_exporter": "python",
   "pygments_lexer": "ipython3",
   "version": "3.11.8"
  }
 },
 "nbformat": 4,
 "nbformat_minor": 5
}
